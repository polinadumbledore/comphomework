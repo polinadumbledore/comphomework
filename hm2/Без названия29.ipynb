{
 "cells": [
  {
   "cell_type": "markdown",
   "id": "17ee1232",
   "metadata": {},
   "source": [
    "Я использовала список тегов из https://universaldependencies.org/u/pos/ , но CCONJ и SCONJ заменила просто CONJ. Я посмотрела на список выбранных POS теггеров (spacy, mystem и stanza) и такой списог тегов был самым удобным, потому что в нем не было такого, что двумя разными тегами обозначено в нем, но одним тегом — в каком-то из теггеров (то есть, на примере с теми же CCONJ и SCONJ, там, где они были, я могла их просто вместе заменить на CONJ, а там, где и так был только CONJ, оставался он)"
   ]
  },
  {
   "cell_type": "markdown",
   "id": "043a08ac",
   "metadata": {},
   "source": [
    "Корпус у меня был составлен из разных предложений с омонимией, где сложно определить часть речи"
   ]
  },
  {
   "cell_type": "code",
   "execution_count": 2,
   "id": "3acfde77",
   "metadata": {},
   "outputs": [],
   "source": [
    "import re\n",
    "import spacy\n",
    "nlp = spacy.load('ru_core_news_sm', disable=['parser', 'ner'])\n",
    "tokens = []\n",
    "pos = []\n",
    "newfile = []\n",
    "with open('textforpostag.txt',  encoding='utf-8') as f:\n",
    "    for line in f:\n",
    "        line = re.findall(r'\\w+', line)\n",
    "        line = \" \".join(line)\n",
    "        doc = nlp(line)\n",
    "        for token in doc:\n",
    "            tokens.append(token.text)\n",
    "            pos.append(token.pos_)\n",
    "\n",
    "for word in pos:\n",
    "    if word == 'CCONJ' or word == 'SCONJ':\n",
    "        newfile.append('CONJ')\n",
    "    else:\n",
    "        newfile.append(word)\n",
    "\n",
    "   "
   ]
  },
  {
   "cell_type": "code",
   "execution_count": 3,
   "id": "c997f7bd",
   "metadata": {},
   "outputs": [
    {
     "name": "stderr",
     "output_type": "stream",
     "text": [
      "2022-10-11 23:14:33 INFO: Checking for updates to resources.json in case models have been updated.  Note: this behavior can be turned off with download_method=None or download_method=DownloadMethod.REUSE_RESOURCES\n"
     ]
    },
    {
     "data": {
      "application/vnd.jupyter.widget-view+json": {
       "model_id": "b363f17c4fdb4e69bf667985adeae521",
       "version_major": 2,
       "version_minor": 0
      },
      "text/plain": [
       "Downloading https://raw.githubusercontent.com/stanfordnlp/stanza-resources/main/resources_1.4.1.json:   0%|   …"
      ]
     },
     "metadata": {},
     "output_type": "display_data"
    },
    {
     "name": "stderr",
     "output_type": "stream",
     "text": [
      "2022-10-11 23:14:35 INFO: Loading these models for language: ru (Russian):\n",
      "=========================\n",
      "| Processor | Package   |\n",
      "-------------------------\n",
      "| tokenize  | syntagrus |\n",
      "| pos       | syntagrus |\n",
      "=========================\n",
      "\n",
      "2022-10-11 23:14:35 INFO: Use device: cpu\n",
      "2022-10-11 23:14:35 INFO: Loading: tokenize\n",
      "2022-10-11 23:14:35 INFO: Loading: pos\n",
      "2022-10-11 23:14:36 INFO: Done loading processors!\n"
     ]
    }
   ],
   "source": [
    "import stanza\n",
    "ppln = stanza.Pipeline('ru', processors='tokenize,pos')\n"
   ]
  },
  {
   "cell_type": "code",
   "execution_count": 31,
   "id": "75e63fd6",
   "metadata": {},
   "outputs": [
    {
     "name": "stdout",
     "output_type": "stream",
     "text": [
      "['ADP', 'PRON', 'VERB', 'NOUN', 'ADV', 'VERB', 'ADJ', 'PRON', 'PART', 'VERB', 'VERB', 'ADP', 'NOUN', 'PRON', 'VERB', 'ADV', 'VERB', 'ADP', 'NOUN', 'PART', 'VERB', 'NOUN', 'VERB', 'NOUN', 'NOUN', 'VERB', 'CONJ', 'ADJ', 'NOUN', 'PART', 'VERB', 'PART', 'PRON', 'PART', 'VERB', 'CONJ', 'VERB', 'VERB', 'PART', 'VERB', 'NOUN', 'PRON', 'ADV', 'VERB', 'ADP', 'NOUN', 'ADJ', 'ADP', 'NOUN', 'NOUN', 'ADJ', 'NOUN', 'ADP', 'NOUN', 'NOUN', 'DET', 'NOUN', 'ADJ', 'PRON', 'PART', 'VERB', 'ADV', 'NOUN', 'VERB', 'ADV', 'CONJ', 'PRON', 'VERB', 'ADJ', 'ADV', 'PART', 'VERB', 'ADP', 'DET', 'NOUN', 'ADV', 'NOUN', 'VERB', 'VERB', 'ADV', 'VERB', 'NOUN', 'VERB', 'VERB', 'PRON', 'DET', 'NOUN', 'ADP', 'NOUN', 'PRON', 'ADJ', 'PRON', 'PART', 'VERB', 'PART', 'ADP', 'PRON', 'PART', 'VERB', 'PRON', 'ADJ', 'VERB', 'ADV', 'CONJ', 'ADV', 'NOUN', 'VERB', 'CONJ', 'PRON', 'VERB', 'VERB', 'NOUN', 'NOUN', 'VERB', 'VERB', 'NOUN', 'VERB', 'NOUN', 'VERB', 'NOUN', 'VERB', 'ADP', 'NOUN', 'ADP', 'NOUN', 'NOUN', 'NOUN', 'ADV', 'ADP', 'NOUN', 'PART', 'VERB', 'NOUN', 'VERB', 'VERB', 'NOUN', 'ADP', 'NOUN', 'NOUN', 'VERB', 'VERB', 'NOUN', 'VERB', 'PART', 'ADP', 'NOUN', 'PRON', 'PART', 'VERB', 'CONJ', 'NOUN', 'VERB', 'ADP', 'NOUN', 'VERB', 'ADV', 'VERB', 'PRON', 'ADP', 'PRON', 'PART', 'VERB', 'ADJ', 'ADP', 'NOUN', 'NOUN', 'ADJ', 'PRON', 'VERB', 'ADV', 'VERB', 'PRON', 'ADV', 'PRON', 'VERB', 'ADV', 'VERB', 'ADJ', 'PRON', 'VERB', 'ADV', 'NOUN', 'DET', 'VERB', 'ADJ', 'VERB', 'PRON', 'ADV', 'ADJ', 'PRON', 'ADJ', 'NOUN', 'PRON', 'VERB', 'PRON', 'ADV', 'PRON', 'VERB', 'NOUN', 'CONJ', 'ADV', 'DET', 'NOUN', 'ADJ']\n"
     ]
    }
   ],
   "source": [
    "import re\n",
    "\n",
    "files = []\n",
    "newfiles = []\n",
    "with open('textforpostag.txt',  encoding='utf-8') as f:\n",
    "    for line in f:\n",
    "        line = re.findall(r'\\w+', line)\n",
    "        line = \" \".join(line)\n",
    "        doc = ppln(line)\n",
    "        for snt in doc.sentences:\n",
    "            for word in snt.words:\n",
    "                file = f'{word.upos}'\n",
    "                files.append(file)\n",
    "\n",
    "for word in files:\n",
    "    if word == 'CCONJ' or word == 'SCONJ':\n",
    "        newfiles.append('CONJ')\n",
    "    elif word == 'AUX':\n",
    "        newfiles.append('VERB')\n",
    "    else:\n",
    "        newfiles.append(word)\n",
    "print(newfiles)      "
   ]
  },
  {
   "cell_type": "code",
   "execution_count": 19,
   "id": "c6b7c957",
   "metadata": {},
   "outputs": [],
   "source": [
    "from pymystem3 import Mystem\n",
    "m = Mystem()\n",
    "\n",
    "tokens1 = []\n",
    "pos1 = []\n",
    "newfile1 = []\n",
    "with open('textforpostag.txt',  encoding='utf-8') as f:\n",
    "    for line in f:\n",
    "        line = re.findall(r'\\w+', line)\n",
    "        line = \" \".join(line)\n",
    "        ana = m.analyze(line)\n",
    "        for word in ana:\n",
    "            if 'analysis' in word:\n",
    "                gr = word['analysis'][0]['gr']\n",
    "                pos = gr.split('=')[0].split(',')[0]\n",
    "                tokens1.append(word['text']) \n",
    "                pos1.append(pos)\n",
    "\n",
    "for word in pos1:\n",
    "    if word == 'PR':\n",
    "        newfile1.append('ADP')\n",
    "    elif word == 'S':\n",
    "        newfile1.append('NOUN')\n",
    "    elif word == 'A':\n",
    "        newfile1.append('ADJ')\n",
    "    elif word == 'V':\n",
    "        newfile1.append('VERB')\n",
    "    elif word == 'SPRO' or word == 'APRO' or word == 'ADVPRO':\n",
    "        newfile1.append('PRON')\n",
    "    else:\n",
    "        newfile1.append(word)"
   ]
  },
  {
   "cell_type": "code",
   "execution_count": 14,
   "id": "db95ae21",
   "metadata": {},
   "outputs": [],
   "source": [
    "with open('corpuspos.txt',  'r') as f:\n",
    "    linepred = f.readline().split()"
   ]
  },
  {
   "cell_type": "code",
   "execution_count": 27,
   "id": "54620756",
   "metadata": {},
   "outputs": [
    {
     "data": {
      "text/plain": [
       "0.8578431372549019"
      ]
     },
     "execution_count": 27,
     "metadata": {},
     "output_type": "execute_result"
    }
   ],
   "source": [
    "from sklearn.metrics import accuracy_score, f1_score\n",
    "accuracy_score(newfile, linepred)"
   ]
  },
  {
   "cell_type": "code",
   "execution_count": 33,
   "id": "f2d67b51",
   "metadata": {},
   "outputs": [
    {
     "data": {
      "text/plain": [
       "0.8725490196078431"
      ]
     },
     "execution_count": 33,
     "metadata": {},
     "output_type": "execute_result"
    }
   ],
   "source": [
    "accuracy_score(newfile1, linepred)"
   ]
  },
  {
   "cell_type": "code",
   "execution_count": 34,
   "id": "b8a1a245",
   "metadata": {
    "scrolled": true
   },
   "outputs": [
    {
     "data": {
      "text/plain": [
       "0.8676470588235294"
      ]
     },
     "execution_count": 34,
     "metadata": {},
     "output_type": "execute_result"
    }
   ],
   "source": [
    "accuracy_score(newfiles, linepred)"
   ]
  },
  {
   "cell_type": "markdown",
   "id": "ec23dff0",
   "metadata": {},
   "source": [
    "Самый лучший теггер — mystem"
   ]
  }
 ],
 "metadata": {
  "kernelspec": {
   "display_name": "Python 3 (ipykernel)",
   "language": "python",
   "name": "python3"
  },
  "language_info": {
   "codemirror_mode": {
    "name": "ipython",
    "version": 3
   },
   "file_extension": ".py",
   "mimetype": "text/x-python",
   "name": "python",
   "nbconvert_exporter": "python",
   "pygments_lexer": "ipython3",
   "version": "3.9.7"
  }
 },
 "nbformat": 4,
 "nbformat_minor": 5
}
